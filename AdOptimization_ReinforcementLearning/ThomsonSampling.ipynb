{
 "cells": [
  {
   "cell_type": "markdown",
   "id": "475a654a-7b48-4acd-a1cb-c0b42e95ce9f",
   "metadata": {},
   "source": [
    "# Dependencies - Data"
   ]
  },
  {
   "cell_type": "code",
   "execution_count": 6,
   "id": "fbdc0b33",
   "metadata": {},
   "outputs": [],
   "source": [
    "import numpy as np\n",
    "import matplotlib.pyplot as plt\n",
    "import pandas as pd\n",
    "import math \n",
    "import random"
   ]
  },
  {
   "cell_type": "code",
   "execution_count": 7,
   "id": "740d624c",
   "metadata": {},
   "outputs": [],
   "source": [
    "df = pd.read_csv('Ads_CTR_Optimisation.csv')"
   ]
  },
  {
   "cell_type": "markdown",
   "id": "745ffa1d-b5b3-4b52-a4a2-ca98542a0aaa",
   "metadata": {},
   "source": [
    "# Implementation of ThomsonSampling Algorithm"
   ]
  },
  {
   "cell_type": "code",
   "execution_count": 9,
   "id": "94774f98-da44-4c27-bdcb-88247b4fc7b6",
   "metadata": {},
   "outputs": [],
   "source": [
    "# Number of rounds (experiments)\n",
    "N = 10000  \n",
    "\n",
    "# Number of ads (or choices)\n",
    "d = 10  \n",
    "\n",
    "# List to store the indices of selected ads\n",
    "ads_selected = []  \n",
    "\n",
    "# Lists to count the number of times each ad got rewards 1 and 0\n",
    "numbers_of_rewards_1 = [0] * d  # Successes (reward = 1)\n",
    "numbers_of_rewards_0 = [0] * d  # Failures (reward = 0)\n",
    "\n",
    "# Variable to store the total reward accumulated\n",
    "total_reward = 0  \n",
    "\n",
    "# Loop through each round of the experiment\n",
    "for n in range(0, N):  \n",
    "    ad = 0  # Variable to store the index of the selected ad\n",
    "    max_random = 0  # Keeps track of the highest random draw\n",
    "\n",
    "    # Loop through each ad to calculate its beta distribution sample\n",
    "    for i in range(0, d):  \n",
    "        # Draw a random sample from the Beta distribution for ad `i`\n",
    "        # Beta parameters: (successes + 1, failures + 1)\n",
    "        random_beta = random.betavariate(numbers_of_rewards_1[i] + 1, numbers_of_rewards_0[i] + 1)  \n",
    "        \n",
    "        # Update the selected ad if this random draw is the largest so far\n",
    "        if random_beta > max_random:  \n",
    "            max_random = random_beta  \n",
    "            ad = i  # Store the index of the ad with the highest random beta value\n",
    "\n",
    "    # Add the selected ad to the list of selected ads\n",
    "    ads_selected.append(ad)  \n",
    "    \n",
    "    # Fetch the reward of the selected ad for the current round\n",
    "    reward = df.values[n, ad]  \n",
    "    \n",
    "    # Update the reward counts for the selected ad\n",
    "    if reward == 1:  \n",
    "        numbers_of_rewards_1[ad] = numbers_of_rewards_1[ad] + 1  # Increment successes\n",
    "    else:  \n",
    "        numbers_of_rewards_0[ad] = numbers_of_rewards_0[ad] + 1  # Increment failures\n",
    "    \n",
    "    # Update the total reward accumulated\n",
    "    total_reward = total_reward + reward  \n"
   ]
  },
  {
   "cell_type": "markdown",
   "id": "a24ec133-59c6-49f5-8e7e-b70e35c62cdc",
   "metadata": {},
   "source": [
    "# Visualization"
   ]
  },
  {
   "cell_type": "code",
   "execution_count": 10,
   "id": "a4448f35",
   "metadata": {},
   "outputs": [
    {
     "data": {
      "image/png": "[encoded data removed]",
      "text/plain": [
       "<Figure size 640x480 with 1 Axes>"
      ]
     },
     "metadata": {},
     "output_type": "display_data"
    }
   ],
   "source": [
    "# Histogram\n",
    "plt.hist(ads_selected)\n",
    "plt.title('Histogram of ads selections')\n",
    "plt.xlabel('Ads')\n",
    "plt.ylabel('Number of times each ad was selected')\n",
    "plt.show()"
   ]
  },
  {
   "cell_type": "code",
   "execution_count": null,
   "id": "d114ee67",
   "metadata": {},
   "outputs": [],
   "source": []
  }
 ],
 "metadata": {
  "kernelspec": {
   "display_name": "Python 3 (ipykernel)",
   "language": "python",
   "name": "python3"
  },
  "language_info": {
   "codemirror_mode": {
    "name": "ipython",
    "version": 3
   },
   "file_extension": ".py",
   "mimetype": "text/x-python",
   "name": "python",
   "nbconvert_exporter": "python",
   "pygments_lexer": "ipython3",
   "version": "3.12.7"
  }
 },
 "nbformat": 4,
 "nbformat_minor": 5
}
